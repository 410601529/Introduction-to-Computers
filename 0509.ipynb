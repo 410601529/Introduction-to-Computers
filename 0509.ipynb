{
  "nbformat": 4,
  "nbformat_minor": 0,
  "metadata": {
    "colab": {
      "name": "0509.ipynb",
      "provenance": [],
      "authorship_tag": "ABX9TyM7Vb8mq/jvUeHGpljW9mzT",
      "include_colab_link": true
    },
    "kernelspec": {
      "name": "python3",
      "display_name": "Python 3"
    },
    "language_info": {
      "name": "python"
    }
  },
  "cells": [
    {
      "cell_type": "markdown",
      "metadata": {
        "id": "view-in-github",
        "colab_type": "text"
      },
      "source": [
        "<a href=\"https://colab.research.google.com/github/410601529/Introduction-to-Computers/blob/main/0509.ipynb\" target=\"_parent\"><img src=\"https://colab.research.google.com/assets/colab-badge.svg\" alt=\"Open In Colab\"/></a>"
      ]
    },
    {
      "cell_type": "code",
      "execution_count": 1,
      "metadata": {
        "id": "rcRp-eW_3wiv",
        "colab": {
          "base_uri": "https://localhost:8080/"
        },
        "outputId": "1ae36988-0d5c-4a88-de3a-bb5e56398214"
      },
      "outputs": [
        {
          "output_type": "stream",
          "name": "stdout",
          "text": [
            "123\n"
          ]
        }
      ],
      "source": [
        "print(\"123\")"
      ]
    },
    {
      "cell_type": "code",
      "source": [
        "temp = float(input(\"請輸入你的體溫\"))\n",
        "if temp >= 37.5:\n",
        "    print(\"體溫過高!\")\n",
        "elif temp >= 37 and temp < 37.4:\n",
        "    print(\"體溫略高!\")\n",
        "elif temp >= 34 and temp <= 36.9:\n",
        "    print(\"體溫正常!\")\n",
        "else:\n",
        "    print(\"體溫異常，請重新量測!\")"
      ],
      "metadata": {
        "colab": {
          "base_uri": "https://localhost:8080/"
        },
        "id": "7lX-xgBj78M4",
        "outputId": "8fbc8c91-21e6-4db6-e309-214a878408e5"
      },
      "execution_count": 12,
      "outputs": [
        {
          "output_type": "stream",
          "name": "stdout",
          "text": [
            "請輸入你的體溫36\n",
            "體溫正常!\n"
          ]
        }
      ]
    },
    {
      "cell_type": "code",
      "source": [
        "score = input(\"請輸入成績\")\n",
        "if (int(score) >= 90):\n",
        "    print(\"A\")\n",
        "elif (int(score) >= 80): \n",
        "    print(\"B\")\n",
        "elif (int(score) >= 70):\n",
        "    print(\"C\")\n",
        "elif (int(score) >= 60):\n",
        "    print(\"D\")\n",
        "else:\n",
        "    print(\"E\")"
      ],
      "metadata": {
        "colab": {
          "base_uri": "https://localhost:8080/"
        },
        "id": "rnGPRRwA-mS_",
        "outputId": "fe33c310-929b-4d24-bccd-1a03d9a80327"
      },
      "execution_count": 24,
      "outputs": [
        {
          "output_type": "stream",
          "name": "stdout",
          "text": [
            "請輸入成績60\n",
            "D\n"
          ]
        }
      ]
    },
    {
      "cell_type": "code",
      "source": [
        "money = int(input(\"請輸入購物金額: \"))\n",
        "if (money >= 10000):\n",
        "    if(money >= 100000):\n",
        "      print(\"八折\", money *0.8, end = \"元\\n\")\n",
        "    elif(money >= 50000):\n",
        "      print(\"八五折\", money *0.85, end = \"元\\n\")\n",
        "    elif(money >= 30000):\n",
        "      print(\"九折\", money *0.9, end = \"元\\n\")\n",
        "    else:\n",
        "      print(\"九五折\", money *0.95, end = \"元\\n\")\n",
        "else:\n",
        "  print(\"沒打折\",money, end = \"元\\n\")"
      ],
      "metadata": {
        "colab": {
          "base_uri": "https://localhost:8080/"
        },
        "id": "__b9wj9xE0Ja",
        "outputId": "c1173b8f-702b-46fc-960a-1ac41e136141"
      },
      "execution_count": 28,
      "outputs": [
        {
          "output_type": "stream",
          "name": "stdout",
          "text": [
            "請輸入購物金額: 1200000\n",
            "八折 960000.0元\n"
          ]
        }
      ]
    },
    {
      "cell_type": "code",
      "source": [
        "month = int(input(\"請輸入月份: \"))\n",
        "if (month >= 3 and month <= 5):\n",
        "  print(month,\"月是春天!\")\n",
        "elif (month >= 6 and month <=8):\n",
        "  print(month,\"月是夏天!\")\n",
        "elif (month >= 9 and month <= 11):\n",
        "  print(month,\"月是秋天!\")\n",
        "elif (month == 1 or month == 2 or month ==12):\n",
        "  print(month,\"月是冬天!\")\n",
        "else:\n",
        "  print(\"月份不在範圍內!\")\n"
      ],
      "metadata": {
        "colab": {
          "base_uri": "https://localhost:8080/"
        },
        "id": "t7zgvoY_HsOp",
        "outputId": "5b55d21f-4c7e-45a5-c1c7-ea2056814456"
      },
      "execution_count": 64,
      "outputs": [
        {
          "output_type": "stream",
          "name": "stdout",
          "text": [
            "請輸入月份: 2\n",
            "2 月是冬天!\n"
          ]
        }
      ]
    },
    {
      "cell_type": "code",
      "source": [
        "income = int(input(\"請輸入今年收入淨額: \"))\n",
        "if (income >= 300000):\n",
        "    if(income >= 2000000):\n",
        "      print(\"付稅金額: \", income *0.3, end = \" 元\\n\")\n",
        "    elif(income >= 1000000):\n",
        "      print(\"付稅金額: \", income *0.21, end = \" 元\\n\")\n",
        "    elif(income >= 600000):\n",
        "      print(\"付稅金額: \", income *0.13, end = \" 元\\n\")\n",
        "    else:\n",
        "      print(\"付稅金額: \", income *0.3, end = \" 元\\n\")\n",
        "else:\n",
        "  print(\"付稅金額: \",income *0, end = \" 元\\n\")\n"
      ],
      "metadata": {
        "colab": {
          "base_uri": "https://localhost:8080/"
        },
        "id": "DRSAU6BaKScl",
        "outputId": "55b61596-ebdd-43f1-d31a-3255ccb0efe4"
      },
      "execution_count": 63,
      "outputs": [
        {
          "output_type": "stream",
          "name": "stdout",
          "text": [
            "請輸入今年收入淨額: 2000000\n",
            "付稅金額:  600000.0 元\n"
          ]
        }
      ]
    }
  ]
}